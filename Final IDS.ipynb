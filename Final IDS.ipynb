#!/usr/bin/env python
# coding: utf-8

# # TOP 250 FOOTBALL TRANSFERS FROM 2000 TO 2018
# 
#                                                                                                         Group Members
#                                                                                                         
#                                                                                                         Aniket Avasarkar
#                                                                                                         Amandeep Dhariwal
#                                                                                                         Ajay Shivhare

# ## DATA DESCRIPTION
# 
# 1) Top 250 most expensive football transfers from season 2000-2001 until 2018-2019.
# 
# 2) 4700 total rows and 10 columns.

# ## GOAL
# 
# To predict the transfer value of players for the next two years by analyzing previous 8 years of data. 
# 
# ## TARGET AUDIENCE
# 
# 1) Soccer Enthusiasts
# 
# 2) Fantasy Soccer Leagues
# 
# ## OBJECTIVE
# 
# So far we have cleaned our data and performed Exploratory Data Analysis (EDA)
# 
# --DATA CLEANING:
# 
#     1) Removing Whitespaces
#     2) Convering string attributes into lower_case
#     3) Removing NA's
#     4) Removing Nan's
#     5) Creating separate dataframes according to Season attribute
#     
# --EDA:
# 
#     1) Whether clubs are more interested in buying or selling players
#     2) Dig deep into basic distribution of the data
#     3) Top Leagues and Teams as per Transfer value
#     4) Showing plots for top selling & buying clubs and top selling & buying leagues 

# In[190]:


# importing numpy, pandas and matplotlib libraries
import numpy as np
import pandas as pd
import matplotlib.pyplot as plt

# importing dataset
soccer = pd.read_csv('C:/Users/Aniket/Desktop/Fall 2019/IDS/top250.csv', index_col =  False)
soccer.count()
soccer.describe()


# ### Removing Nan from the dataset:
# 

# In[191]:


scr = soccer.copy()
scr.dropna(inplace=True)
scr.count()


# ### Removing Age values with zero in it

# In[192]:


scr = scr.drop(scr[scr.Age==0].index)

scr.describe()


# ## Data Cleaning 

# ### 1) Removing WhiteSpaces

# In[193]:


scr.columns =  scr.columns.str.strip()


# ### 2) Converting to Lower_case

# In[194]:


# converting 'Name' column to lower case
scr["Name"]=scr["Name"].str.lower()

# converting 'Position' column to lower case
scr["Position"]=scr["Position"].str.lower()

# converting 'Team_from' column to lower case
scr["Team_from"]=scr["Team_from"].str.lower()

# converting 'League_from' column to lower case
scr["League_from"]=scr["League_from"].str.lower()

# converting 'Team_to' column to lower case
scr["Team_to"]=scr["Team_to"].str.lower()

# converting 'League_to' column to lower case
scr["League_to"]=scr["League_to"].str.lower()


# ### 3) Removing NA's

# In[195]:


# checking which columns contain NA values 
scr.isnull().any()


# ## Exploratory Data Analysis (EDA)

# In our Exploratory Data Analysis we will be exploring the following: 
# 
#     1) Whether clubs are more interested in buying or selling players
#     2) Dig deep into basic distribution of the data
#     3) Top Leagues and Teams as per Transfer value
#     4) Showing plots to see the following:
#         a) Top Selling Clubs 
#         b) Top Buying Clubs 
#         c) Top Selling Leagues
#         d) Top Buying Leagues 

# ### 1) Whether clubs are more interested in buying or selling players

# In[196]:


print('The total number of players transferred till date  : ' + str(scr['Name'].nunique()))
print('\n')
print('The total number of unique player positions transferred till date  : ' + str(scr['Position'].nunique()))
print('\n')
print('The total number of unique teams that have transferred its players till date  : ' + str(scr['Team_from'].nunique()))
print('\n')
print('The total number of unique teams that have brought in players till date  : ' + str(scr['Team_to'].nunique()))
print('\n')
print('There is a good difference in count of selling clubs and buying clubs this means that some clubs are more interested in buying from other rather than growing academy players.')


# ### 2) Dig deep into basic distribution of the data

# Here we will do a basic analysis to see our basic distribution of our data

# In[197]:


import pandas as pd

top_10_transferred_players = pd.DataFrame(scr['Name'].value_counts())
top_10_transferred_players.head(10)


# Based on the Number of Transfers

# In[198]:


top_10_selling_clubs = pd.DataFrame(scr['Team_from'].value_counts())
top_10_selling_clubs.head(10)


# In[199]:


top_10_selling_leagues = pd.DataFrame(scr['League_from'].value_counts())
top_10_selling_leagues.head(10)


# In[200]:


top_10_buying_clubs = pd.DataFrame(scr['Team_to'].value_counts())
top_10_buying_clubs.head(10)


# In[201]:


top_10_buying_leagues = pd.DataFrame(scr['League_to'].value_counts())
top_10_buying_leagues.head(10)


# The most transferred player is 'Alex'. 
# 
# The club that sells and buys the most is 'Inter Milan'.
# 
# Transfers IN/OUT happened the most in 'Premier League'.

# ### 3) Top Leagues and Teams as per Transfer value

# In[202]:


top_10_selling_clubs_money = scr.groupby('Team_from',as_index = False)['Transfer_fee'].sum().sort_values(by = 'Transfer_fee',ascending = False)
top_10_selling_clubs_money.head(10)


# In[203]:


top_10_selling_leagues_money =  scr.groupby('League_from',as_index = False)['Transfer_fee'].sum().sort_values(by = 'Transfer_fee',ascending = False)
top_10_selling_leagues_money.head(10)


# In[204]:


top_10_buying_clubs_money =  scr.groupby('Team_to',as_index = False)['Transfer_fee'].sum().sort_values(by = 'Transfer_fee',ascending = False)
top_10_buying_clubs_money.head(10)


# In[205]:


top_10_buying_leagues_money = scr.groupby('League_to',as_index = False)['Transfer_fee'].sum().sort_values(by = 'Transfer_fee',ascending = False)
top_10_buying_leagues_money.head(10)


# As of now, we have come up with the following analysis:
# 
# 1) The richest league - English Premier League
# 
# 2) Clubs that are the biggest sellers in the market, top5: Monaco, FC Porto, Real Madrid, Chelsea, Liverpool
# 
# 3) Clubs that are the b iggest buyers in the market, top5: Chelsea, Man City, Real Madrid, FC Barcelona, Man Utd
# 

# ### 4) Plots to see the follwing: 
#     a) Top Selling Clubs 
#     b) Top Buying Clubs 
#     c) Top Selling Leagues
#     d) Top Buying Leagues 

# #### a) Plottting Top Selling Clubs

# In[206]:


plt.subplot(1,1,1)
plt.bar(x = top_10_selling_clubs.head(10).index , height =top_10_selling_clubs['Team_from'].head(10))
plt.xticks(rotation = 45)
plt.ylabel('Number of Players')
plt.title('Top Selling Clubs')


# #### b) Plotting Top Buying Clubs 

# In[207]:


plt.subplot(1,1,1)
plt.bar(x = top_10_buying_clubs.head(10).index , height =top_10_buying_clubs['Team_to'].head(10))
plt.xticks(rotation = 45)
plt.ylabel('Number of Players')
plt.title('Top Buying Clubs')


# #### c) Plotting Top Selling Leagues

# In[208]:


plt.subplot(1,1,1)
plt.bar(x = top_10_selling_leagues.head(10).index , height =top_10_selling_leagues['League_from'].head(10))
plt.xticks(rotation = 45)
plt.ylabel('Number of Players')
plt.title('Top Selling Leagues')


# #### d) Plotting Top Buying Leagues

# In[209]:


plt.subplot(1,1,1)
plt.bar(x = top_10_buying_leagues.head(10).index , height =top_10_buying_leagues['League_to'].head(10))
plt.xticks(rotation = 45)
plt.ylabel('Number of Players')
plt.title('Top Buying Leagues')
plt.tight_layout()


# From above plots we can see the following 
# 
# 1) Porto ,Benfica and Udinese Calcio are amongst the top sellers but not in the top buyers 
# 
# 2) Inter seems to be the squad that has changed a lot as it is on top for buying and selling list.
# 
# 3) A lot of players have left Serie A and Ligue 1 and most probably joined Premier League .
# 
# 4) It also signifies that these leagues maybe now have more homegrown players with each passing season.
# 

# In[210]:


import seaborn as sns

from sklearn.preprocessing import LabelEncoder

scr['League_from'] = LabelEncoder().fit_transform(scr['League_from'] )
scr['Position'] = LabelEncoder().fit_transform(scr['Position'] )
scr['Team_from'] = LabelEncoder().fit_transform(scr['Team_from'] )
scr['League_to'] = LabelEncoder().fit_transform(scr['League_to'] )
scr['Season'] = LabelEncoder().fit_transform(scr['Season'] )
scr['Team_to'] = LabelEncoder().fit_transform(scr['Team_to'] )


wh1 = scr[["Position","Age","Team_from","League_from","Team_to","League_to","Season","Market_value","Transfer_fee"]] #Subsetting the data

cor = wh1.corr() #Calculate the correlation of the above variables
sns.heatmap(cor, square = True) #Plot the correlation as heat map


# ## Statistical Analysis 

# ### Scatter Plot (Players In Vs Player Out)

# #### Team Perspective

# In[211]:


scatter_clubs = top_10_selling_clubs.join(top_10_buying_clubs)
scatter_league = top_10_selling_leagues.join(top_10_buying_leagues)
plt.subplot(2,1,1)
plt.scatter(scatter_clubs['Team_from'],scatter_clubs['Team_to'])
plt.xlabel('Transfers Out')
plt.ylabel('Transfers In')
plt.title('Team Perspective')


# #### League Perspective

# ### There seems to be a positive correlation between Transfers In and Transfers Out. 
# 
# ### Let's Just validate the fact

# In[212]:


print('Team Transfer Correlation')
print(str(scatter_clubs.corr()))


# In[213]:


print('League Transfer Correlation ')
print(str(scatter_league.corr()))


# Lets analyse profitability of various groups
# 
# Lets take a look at the age of players that were transferred
# 

# In[214]:


scr['Age'].hist(bins = 35,color = 'green')


# ### From the graph above we can say that players between the age of 20 - 30 years are transferred the most.
# 

# In[215]:


from sklearn import preprocessing


# In[216]:


le = preprocessing.LabelEncoder()


# In[217]:


## converting categorical data to numerical data 
from sklearn.preprocessing import LabelEncoder

scr['League_from'] = LabelEncoder().fit_transform(scr['League_from'] )
scr['Position'] = LabelEncoder().fit_transform(scr['Position'] )
scr['Team_from'] = LabelEncoder().fit_transform(scr['Team_from'] )
scr['League_to'] = LabelEncoder().fit_transform(scr['League_to'] )
scr['Season'] = LabelEncoder().fit_transform(scr['Season'] )
scr['Team_to'] = LabelEncoder().fit_transform(scr['Team_to'] )


# In[218]:


scr.head()


# ### Splitting the data into test and train
# 
# 

# In[219]:


# X = scr[[ 'Market_value', 'Season']]

X = scr[["Position","Age","Team_from","League_from","Team_to","League_to","Season","Market_value"]]
y = scr[['Transfer_fee']]

X_train = scaler.transform(X_train)  
X_test = scaler.transform(X_test)  

from sklearn.model_selection import train_test_split
X_train, X_test, y_train, y_test = train_test_split(X, y, train_size=0.7, test_size=0.3, random_state=0)


# ### Modeling: Regression

# In[244]:


from sklearn.model_selection import cross_val_score
from sklearn.linear_model import LinearRegression
from sklearn.metrics import mean_squared_error

regr = LinearRegression()
fit = regr.fit(X_train,y_train)
pred = regr.predict(X_test)           # Use this model to predict the test data

# mean_squared_error(pred, y_test)
import statsmodels.formula.api as smf

# create a fitted model in one line
lm = smf.ols(formula = 'Transfer_fee ~ Position+Age+Team_from+League_from+Team_to+League_to+Season+Market_value', data = scr).fit()
lm.summary()



# In[255]:


# pred
y_test

fit.coef_
fit.score(X_test, y_test)


# In[225]:


from yellowbrick.regressor import ResidualsPlot


visualizer = ResidualsPlot(fit, hist=False)
visualizer.fit(X_train, y_train)
visualizer.score(X_test, y_test)
visualizer.show()


# In[284]:


df = pd.read_csv('C:/Users/Aniket/Desktop/Fall 2019/IDS/top250.csv', index_col =  False)

from sklearn import metrics
from sklearn.metrics import accuracy_score

from sklearn.preprocessing import StandardScaler  
scaler = StandardScaler()  

scaler.fit(X_train)

X_train = scaler.transform(X_train)  
X_test = scaler.transform(X_test)  

#KNN
from sklearn.neighbors import KNeighborsClassifier  
classifier = KNeighborsClassifier(n_neighbors=25)  
classifier.fit(X_train, y_train)

#prediction
y_pred = classifier.predict(X_test) 

acc_knn = metrics.accuracy_score(y_test, y_pred)

print("Accuracy of KNN :",acc_knn)
#evaluation of algorithm

from sklearn.metrics import classification_report, confusion_matrix  
print(confusion_matrix(y_test, y_pred))  



# k_list = list(range(1,50,2))
# cv_scores = []

# for k in k_list:  
#     knn = KNeighborsClassifier(n_neighbors=k)
#     scores = cross_val_score(knn, X_train, y_train, cv=10, scoring='accuracy')
#     cv_scores.append(scores.mean())
    
# # changing to misclassification error
# # MSE = [1 - x for x in cv_scores]

# plt.figure()
# plt.figure(figsize=(15,10))
# plt.title('The optimal number of neighbors', fontsize=20, fontweight='bold')
# plt.xlabel('Number of Neighbors K', fontsize=15)
# plt.ylabel('Misclassification Error', fontsize=15)
# sns.set_style("whitegrid")
# plt.plot(k_list, MSE)

# plt.show()  

# best_k = k_list[MSE.index(min(MSE))]
# print("The optimal number of neighbors is %d." % best_k)


# ## Conclusion:
# 
# The accuracy score for our Regression model is 48%, which is clearly not what we expected. The main reason for this, is that the predicted variables didn't quite explain the dependent variable, which is Transfer fee.
# R square value is 72%, so, 72% of variance is explained by our model.
# We tried different values of K. When the K value is 25 the results are optimal. The overall accuracy of KNN model is 71.6%, which is not that ideal.
# So, the final conclusion is: If the predictor variables would have been different we could have explained the Transfer fee for the player more efficiently.
# 
# 
# 
